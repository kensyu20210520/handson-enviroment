{
  "cells": [
    {
      "cell_type": "markdown",
      "source": [
        "# CSVファイルの取り込み"
      ],
      "metadata": {
        "nteract": {
          "transient": {
            "deleting": false
          }
        }
      }
    },
    {
      "cell_type": "markdown",
      "source": [
        "## Storage Access Key のセット"
      ],
      "metadata": {
        "nteract": {
          "transient": {
            "deleting": false
          }
        }
      }
    },
    {
      "cell_type": "code",
      "source": [
        "spark.conf.set(\r\n",
        "  \"fs.azure.account.key._storage_account_.dfs.core.windows.net\",\r\n",
        "  \"_access_key_\")\r\n"
      ],
      "outputs": [
        {
          "output_type": "display_data",
          "data": {
            "application/vnd.livy.statement-meta+json": {
              "spark_pool": "sparkpool1",
              "session_id": 1,
              "statement_id": 1,
              "state": "finished",
              "livy_statement_state": "available",
              "queued_time": "2021-03-29T10:37:10.6148576Z",
              "execution_start_time": "2021-03-29T10:40:06.8429007Z",
              "execution_finish_time": "2021-03-29T10:40:08.9178144Z"
            },
            "text/plain": "StatementMeta(sparkpool1, 1, 1, Finished, Available)"
          },
          "metadata": {}
        },
        {
          "output_type": "execute_result",
          "execution_count": 1,
          "data": {
            "text/plain": ""
          },
          "metadata": {}
        }
      ],
      "execution_count": 1,
      "metadata": {
        "collapsed": true,
        "jupyter": {
          "source_hidden": false,
          "outputs_hidden": false
        },
        "nteract": {
          "transient": {
            "deleting": false
          }
        }
      }
    },
    {
      "cell_type": "markdown",
      "source": [
        "## CSV ファイルの読み込み"
      ],
      "metadata": {
        "nteract": {
          "transient": {
            "deleting": false
          }
        }
      }
    },
    {
      "cell_type": "code",
      "source": [
        "shiresaki = spark.read.format(\"csv\").option(\"header\", \"false\").option(\"mode\", \"DROPMALFORMED\").load(\"abfss://dl2sample@_storage_account_.dfs.core.windows.net/sample/仕入先/\")\r\n",
        "zyuchu = spark.read.format(\"csv\").option(\"header\", \"false\").option(\"mode\", \"DROPMALFORMED\").load(\"abfss://dl2sample@_storage_account_.dfs.core.windows.net/sample/受注/\")\r\n",
        "zyuchumeisai = spark.read.format(\"csv\").option(\"header\", \"false\").option(\"mode\", \"DROPMALFORMED\").load(\"abfss://dl2sample@_storage_account_.dfs.core.windows.net/sample/受注明細/\")\r\n",
        "shohin = spark.read.format(\"csv\").option(\"header\", \"false\").option(\"mode\", \"DROPMALFORMED\").load(\"abfss://dl2sample@_storage_account_.dfs.core.windows.net/sample/商品/\")\r\n",
        "shohinkubun = spark.read.format(\"csv\").option(\"header\", \"false\").option(\"mode\", \"DROPMALFORMED\").load(\"abfss://dl2sample@_storage_account_.dfs.core.windows.net/sample/商品区分/\")\r\n",
        "tokuisaki = spark.read.format(\"csv\").option(\"header\", \"false\").option(\"mode\", \"DROPMALFORMED\").load(\"abfss://dl2sample@_storage_account_.dfs.core.windows.net/sample/得意先/\")\r\n",
        "shain = spark.read.format(\"csv\").option(\"header\", \"false\").option(\"mode\", \"DROPMALFORMED\").load(\"abfss://dl2sample@_storage_account_.dfs.core.windows.net/sample/社員/\")\r\n",
        "unso = spark.read.format(\"csv\").option(\"header\", \"false\").option(\"mode\", \"DROPMALFORMED\").load(\"abfss://dl2sample@_storage_account_.dfs.core.windows.net/sample/運送会社/\")\r\n",
        "todofuken = spark.read.format(\"csv\").option(\"header\", \"false\").option(\"mode\", \"DROPMALFORMED\").load(\"abfss://dl2sample@_storage_account_.dfs.core.windows.net/sample/都道府県/\")"
      ],
      "outputs": [],
      "execution_count": null,
      "metadata": {
        "collapsed": true,
        "jupyter": {
          "source_hidden": false,
          "outputs_hidden": false
        },
        "nteract": {
          "transient": {
            "deleting": false
          }
        }
      }
    },
    {
      "cell_type": "markdown",
      "source": [
        "## カラム名の設定"
      ],
      "metadata": {
        "nteract": {
          "transient": {
            "deleting": false
          }
        }
      }
    },
    {
      "cell_type": "code",
      "source": [
        "shiresaki = shiresaki.withColumnRenamed(\"_c0\", \"仕入先コード\") \\\r\n",
        "                     .withColumnRenamed(\"_c1\", \"フリガナ\") \\\r\n",
        "                     .withColumnRenamed(\"_c2\", \"仕入先名\") \\\r\n",
        "                     .withColumnRenamed(\"_c3\", \"担当者名\") \\\r\n",
        "                     .withColumnRenamed(\"_c4\", \"部署\") \\\r\n",
        "                     .withColumnRenamed(\"_c5\", \"郵便番号\") \\\r\n",
        "                     .withColumnRenamed(\"_c6\", \"トドウフケン\") \\\r\n",
        "                     .withColumnRenamed(\"_c7\", \"住所1\") \\\r\n",
        "                     .withColumnRenamed(\"_c8\", \"住所2\") \\\r\n",
        "                     .withColumnRenamed(\"_c9\", \"電話番号\") \\\r\n",
        "                     .withColumnRenamed(\"_c10\", \"ファクシミリ\") \\\r\n",
        "                     .withColumnRenamed(\"_c11\", \"ホームページ\")\r\n",
        "shiresaki.drop(\"_c12\")\r\n",
        "\r\n",
        "\r\n",
        "\r\n",
        "zyuchu = zyuchu.withColumnRenamed(\"_c0\", \"受注コード\") \\\r\n",
        "               .withColumnRenamed(\"_c1\", \"得意先コード\") \\\r\n",
        "               .withColumnRenamed(\"_c2\", \"社員コード\") \\\r\n",
        "               .withColumnRenamed(\"_c3\", \"出荷先名\") \\\r\n",
        "               .withColumnRenamed(\"_c4\", \"出荷先郵便番号\") \\\r\n",
        "               .withColumnRenamed(\"_c5\", \"出荷先都道府県\") \\\r\n",
        "               .withColumnRenamed(\"_c6\", \"出荷先住所1\") \\\r\n",
        "               .withColumnRenamed(\"_c7\", \"出荷先住所2\") \\\r\n",
        "               .withColumnRenamed(\"_c8\", \"運送区分\") \\\r\n",
        "               .withColumnRenamed(\"_c9\", \"受注日\") \\\r\n",
        "               .withColumnRenamed(\"_c10\", \"締切日\") \\\r\n",
        "               .withColumnRenamed(\"_c11\", \"出荷日\") \\\r\n",
        "               .withColumnRenamed(\"_c12\", \"運送料\")\r\n",
        "\r\n",
        "\r\n",
        "zyuchumeisai = zyuchumeisai.withColumnRenamed(\"_c0\", \"受注コード\") \\\r\n",
        "                           .withColumnRenamed(\"_c1\", \"商品コード\") \\\r\n",
        "                           .withColumnRenamed(\"_c2\", \"単価\") \\\r\n",
        "                           .withColumnRenamed(\"_c3\", \"数量\") \\\r\n",
        "                           .withColumnRenamed(\"_c4\", \"割引\")\r\n",
        "\r\n",
        "\r\n",
        "shohin = shohin.withColumnRenamed(\"_c0\", \"商品コード\") \\\r\n",
        "               .withColumnRenamed(\"_c1\", \"フリガナ\") \\\r\n",
        "               .withColumnRenamed(\"_c2\", \"商品名\") \\\r\n",
        "               .withColumnRenamed(\"_c3\", \"仕入先コード\") \\\r\n",
        "               .withColumnRenamed(\"_c4\", \"区分コード\") \\\r\n",
        "               .withColumnRenamed(\"_c5\", \"梱包単位\") \\\r\n",
        "               .withColumnRenamed(\"_c6\", \"単価\") \\\r\n",
        "               .withColumnRenamed(\"_c7\", \"在庫\") \\\r\n",
        "               .withColumnRenamed(\"_c8\", \"発注済\") \\\r\n",
        "               .withColumnRenamed(\"_c9\", \"発注点\") \\\r\n",
        "               .withColumnRenamed(\"_c10\", \"生産中止\")\r\n",
        "\r\n",
        "\r\n",
        "shohinkubun = shohinkubun.withColumnRenamed(\"_c0\", \"区分コード\") \\\r\n",
        "                         .withColumnRenamed(\"_c1\", \"区分名\") \\\r\n",
        "                         .withColumnRenamed(\"_c2\", \"商品名\") \\\r\n",
        "                         .withColumnRenamed(\"_c3\", \"説明\") \\\r\n",
        "                         .withColumnRenamed(\"_c4\", \"図\")\r\n",
        "\r\n",
        "\r\n",
        "tokuisaki = tokuisaki.withColumnRenamed(\"_c0\", \"得意先コード\") \\\r\n",
        "               .withColumnRenamed(\"_c1\", \"フリガナ\") \\\r\n",
        "               .withColumnRenamed(\"_c2\", \"得意先名\") \\\r\n",
        "               .withColumnRenamed(\"_c3\", \"担当者名\") \\\r\n",
        "               .withColumnRenamed(\"_c4\", \"部署\") \\\r\n",
        "               .withColumnRenamed(\"_c5\", \"郵便番号\") \\\r\n",
        "               .withColumnRenamed(\"_c6\", \"トドウフケン\") \\\r\n",
        "               .withColumnRenamed(\"_c7\", \"都道府県\") \\\r\n",
        "               .withColumnRenamed(\"_c8\", \"住所1\") \\\r\n",
        "               .withColumnRenamed(\"_c9\", \"住所2\") \\\r\n",
        "               .withColumnRenamed(\"_c10\", \"電話番号\") \\\r\n",
        "               .withColumnRenamed(\"_c11\", \"ファクシミリ\")\r\n",
        "\r\n",
        "\r\n",
        "shain = shain.withColumnRenamed(\"_c0\", \"社員コード\") \\\r\n",
        "             .withColumnRenamed(\"_c1\", \"フリガナ\") \\\r\n",
        "             .withColumnRenamed(\"_c2\", \"氏名\") \\\r\n",
        "             .withColumnRenamed(\"_c3\", \"在籍支社\") \\\r\n",
        "             .withColumnRenamed(\"_c4\", \"部署名\") \\\r\n",
        "             .withColumnRenamed(\"_c5\", \"誕生日\") \\\r\n",
        "             .withColumnRenamed(\"_c6\", \"入社日\") \\\r\n",
        "             .withColumnRenamed(\"_c7\", \"自宅郵便番号\") \\\r\n",
        "             .withColumnRenamed(\"_c8\", \"自宅都道府県\") \\\r\n",
        "             .withColumnRenamed(\"_c9\", \"自宅住所1\") \\\r\n",
        "             .withColumnRenamed(\"_c10\", \"自宅住所2\") \\\r\n",
        "             .withColumnRenamed(\"_c11\", \"自宅電話番号\") \\\r\n",
        "             .withColumnRenamed(\"_c11\", \"内線\") \\\r\n",
        "             .withColumnRenamed(\"_c11\", \"写真\") \\\r\n",
        "             .withColumnRenamed(\"_c12\", \"プロフィール1\") \\\r\n",
        "             .withColumnRenamed(\"_c13\", \"プロフィール2\") \\\r\n",
        "             .withColumnRenamed(\"_c14\", \"プロフィール3\")\r\n",
        "\r\n",
        "\r\n",
        "unso = unso.withColumnRenamed(\"_c0\", \"運送コード\") \\\r\n",
        "           .withColumnRenamed(\"_c1\", \"運送会社\") \\\r\n",
        "           .withColumnRenamed(\"_c2\", \"電話番号\")\r\n",
        "\r\n",
        "\r\n",
        "todofuken = todofuken.withColumnRenamed(\"_c0\", \"トドウフケン\") \\\r\n",
        "           .withColumnRenamed(\"_c1\", \"都道府県\") \\\r\n",
        "           .withColumnRenamed(\"_c2\", \"ローマ字\") \\\r\n",
        "           .withColumnRenamed(\"_c3\", \"地域名ローマ字\") \\\r\n",
        "           .withColumnRenamed(\"_c4\", \"地域\")"
      ],
      "outputs": [],
      "execution_count": null,
      "metadata": {
        "collapsed": true,
        "jupyter": {
          "source_hidden": false,
          "outputs_hidden": false
        },
        "nteract": {
          "transient": {
            "deleting": false
          }
        }
      }
    },
    {
      "cell_type": "markdown",
      "source": [
        "## Parquet ファイルのエクスポート"
      ],
      "metadata": {
        "nteract": {
          "transient": {
            "deleting": false
          }
        }
      }
    },
    {
      "cell_type": "code",
      "source": [
        "shiresaki.write.mode('overwrite').parquet(\"abfss://dl2sample@_storage_account_.dfs.core.windows.net/parquet/shiiresaki/\")\r\n",
        "zyuchu.write.mode('overwrite').parquet(\"abfss://dl2sample@_storage_account_.dfs.core.windows.net/parquet/zyuchu/\")\r\n",
        "zyuchumeisai.write.mode('overwrite').parquet(\"abfss://dl2sample@_storage_account_.dfs.core.windows.net/parquet/zyuchumeisai/\")\r\n",
        "shohin.write.mode('overwrite').parquet(\"abfss://dl2sample@_storage_account_.dfs.core.windows.net/parquet/shohin/\")\r\n",
        "shohinkubun.write.mode('overwrite').parquet(\"abfss://dl2sample@_storage_account_.dfs.core.windows.net/parquet/shohinkubun/\")\r\n",
        "tokuisaki.write.mode('overwrite').parquet(\"abfss://dl2sample@_storage_account_.dfs.core.windows.net/parquet/tokuisaki/\")\r\n",
        "shain.write.mode('overwrite').parquet(\"abfss://dl2sample@_storage_account_.dfs.core.windows.net/parquet/shain/\")\r\n",
        "unso.write.mode('overwrite').parquet(\"abfss://dl2sample@_storage_account_.dfs.core.windows.net/parquet/unso/\")\r\n",
        "todofuken.write.mode('overwrite').parquet(\"abfss://dl2sample@_storage_account_.dfs.core.windows.net/parquet/todofuken/\")"
      ],
      "outputs": [],
      "execution_count": null,
      "metadata": {
        "collapsed": true,
        "jupyter": {
          "source_hidden": false,
          "outputs_hidden": false
        },
        "nteract": {
          "transient": {
            "deleting": false
          }
        }
      }
    },
    {
      "cell_type": "markdown",
      "source": [
        "### ORC ファイルのエクスポート"
      ],
      "metadata": {
        "nteract": {
          "transient": {
            "deleting": false
          }
        }
      }
    },
    {
      "cell_type": "code",
      "source": [
        "shiresaki.write.mode('overwrite').orc(\"abfss://synapse@_storage_account_.dfs.core.windows.net/orc/shiiresaki/\")\r\n",
        "zyuchu.write.mode('overwrite').orc(\"abfss://synapse@_storage_account_.dfs.core.windows.net/orc/zyuchu/\")\r\n",
        "zyuchumeisai.write.mode('overwrite').orc(\"abfss://synapse@_storage_account_.dfs.core.windows.net/orc/zyuchumeisai/\")\r\n",
        "shohin.write.mode('overwrite').orc(\"abfss://synapse@_storage_account_.dfs.core.windows.net/orc/shohin/\")\r\n",
        "shohinkubun.write.mode('overwrite').orc(\"abfss://synapse@_storage_account_.dfs.core.windows.net/orc/shohinkubun/\")\r\n",
        "tokuisaki.write.mode('overwrite').orc(\"abfss://synapse@_storage_account_.dfs.core.windows.net/orc/tokuisaki/\")\r\n",
        "shain.write.mode('overwrite').orc(\"abfss://synapse@_storage_account_.dfs.core.windows.net/orc/shain/\")\r\n",
        "unso.write.mode('overwrite').orc(\"abfss://synapse@_storage_account_.dfs.core.windows.net/orc/unso/\")\r\n",
        "todofuken.write.mode('overwrite').orc(\"abfss://synapse@_storage_account_.dfs.core.windows.net/orc/todofuken/\")"
      ],
      "outputs": [],
      "execution_count": null,
      "metadata": {
        "collapsed": true,
        "jupyter": {
          "source_hidden": false,
          "outputs_hidden": false
        },
        "nteract": {
          "transient": {
            "deleting": false
          }
        }
      }
    }
  ],
  "metadata": {
    "language_info": {
      "name": "python"
    },
    "kernelspec": {
      "name": "synapse_pyspark",
      "language": "Python",
      "display_name": "Synapse PySpark"
    },
    "microsoft": {
      "language": "python"
    },
    "kernel_info": {
      "name": "synapse_pyspark"
    },
    "nteract": {
      "version": "nteract-front-end@1.0.0"
    },
    "save_output": true,
    "synapse_widget": {
      "version": "0.1",
      "state": {}
    }
  },
  "nbformat": 4,
  "nbformat_minor": 2
}